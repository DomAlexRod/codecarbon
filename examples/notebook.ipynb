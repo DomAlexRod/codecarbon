{
 "cells": [
  {
   "attachments": {},
   "cell_type": "markdown",
   "metadata": {},
   "source": [
    "# CodeCarbon in a Notebook"
   ]
  },
  {
   "cell_type": "code",
   "execution_count": null,
   "metadata": {},
   "outputs": [],
   "source": [
    "!pip install codecarbon"
   ]
  },
  {
   "cell_type": "code",
   "execution_count": 6,
   "metadata": {},
   "outputs": [],
   "source": [
    "from codecarbon import EmissionsTracker"
   ]
  },
  {
   "cell_type": "code",
   "execution_count": 7,
   "metadata": {},
   "outputs": [
    {
     "name": "stderr",
     "output_type": "stream",
     "text": [
      "[codecarbon INFO @ 15:05:53] [setup] RAM Tracking...\n",
      "[codecarbon INFO @ 15:05:53] [setup] GPU Tracking...\n",
      "[codecarbon INFO @ 15:05:53] No GPU found.\n",
      "[codecarbon INFO @ 15:05:53] [setup] CPU Tracking...\n",
      "[codecarbon INFO @ 15:05:53] Tracking Intel CPU via RAPL interface\n",
      "[codecarbon INFO @ 15:05:54] >>> Tracker's metadata:\n",
      "[codecarbon INFO @ 15:05:54]   Platform system: Linux-5.15.0-75-generic-x86_64-with-glibc2.10\n",
      "[codecarbon INFO @ 15:05:54]   Python version: 3.8.12\n",
      "[codecarbon INFO @ 15:05:54]   CodeCarbon version: 2.2.4\n",
      "[codecarbon INFO @ 15:05:54]   Available RAM : 15.499 GB\n",
      "[codecarbon INFO @ 15:05:54]   CPU count: 4\n",
      "[codecarbon INFO @ 15:05:54]   CPU model: Intel(R) Core(TM) i7-7600U CPU @ 2.80GHz\n",
      "[codecarbon INFO @ 15:05:54]   GPU count: None\n",
      "[codecarbon INFO @ 15:05:54]   GPU model: None\n",
      "[codecarbon WARNING @ 15:05:57] Unable to access geographical location. Using 'Canada' as the default value - Exception : Expecting value: line 1 column 1 (char 0) - url=https://get.geojs.io/v1/ip/geo.json\n"
     ]
    }
   ],
   "source": [
    "tracker = EmissionsTracker()\n",
    "tracker.start()"
   ]
  },
  {
   "cell_type": "code",
   "execution_count": 8,
   "metadata": {},
   "outputs": [
    {
     "name": "stderr",
     "output_type": "stream",
     "text": [
      "[codecarbon INFO @ 15:05:57] Energy consumed for RAM : 0.000000 kWh. RAM Power : 5.812030792236328 W\n",
      "[codecarbon INFO @ 15:05:57] Energy consumed for all CPUs : 0.000000 kWh. Total CPU Power : 11.142739677160138 W\n",
      "[codecarbon INFO @ 15:05:57] 0.000000 kWh of electricity used since the beginning.\n",
      "[codecarbon INFO @ 15:05:57] Backing up old emission file\n"
     ]
    },
    {
     "name": "stdout",
     "output_type": "stream",
     "text": [
      "2.122171944836091e-07 gCO2eq\n"
     ]
    }
   ],
   "source": [
    "try:\n",
    "    # Compute intensive code goes here\n",
    "    for i in range(10,1):\n",
    "        print(i)\n",
    "finally:\n",
    "    emissions = tracker.stop()\n",
    "print(f\"{emissions * 1_000} gCO2eq\")"
   ]
  },
  {
   "cell_type": "code",
   "execution_count": 9,
   "metadata": {},
   "outputs": [
    {
     "ename": "AttributeError",
     "evalue": "'EmissionsData' object has no attribute 'toJSON'",
     "output_type": "error",
     "traceback": [
      "\u001b[0;31m---------------------------------------------------------------------------\u001b[0m",
      "\u001b[0;31mAttributeError\u001b[0m                            Traceback (most recent call last)",
      "Cell \u001b[0;32mIn[9], line 1\u001b[0m\n\u001b[0;32m----> 1\u001b[0m tracker\u001b[39m.\u001b[39;49mfinal_emissions_data\u001b[39m.\u001b[39;49mtoJSON()\n\u001b[1;32m      2\u001b[0m \u001b[39mfrom\u001b[39;00m \u001b[39mIPython\u001b[39;00m\u001b[39m.\u001b[39;00m\u001b[39mdisplay\u001b[39;00m \u001b[39mimport\u001b[39;00m JSON\n\u001b[1;32m      3\u001b[0m \u001b[39mimport\u001b[39;00m \u001b[39mjson\u001b[39;00m\n",
      "\u001b[0;31mAttributeError\u001b[0m: 'EmissionsData' object has no attribute 'toJSON'"
     ]
    }
   ],
   "source": [
    "tracker.final_emissions_data.toJSON()\n",
    "from IPython.display import JSON\n",
    "import json\n",
    "JSON(tracker.final_emissions_data.toJSON())\n",
    "# print(json.dumps(tracker.final_emissions_data.toJSON(), indent=2))"
   ]
  },
  {
   "cell_type": "code",
   "execution_count": 9,
   "metadata": {},
   "outputs": [
    {
     "data": {
      "application/json": {
       "cloud_provider": "",
       "cloud_region": "",
       "codecarbon_version": "2.2.2",
       "country_iso_code": "CAN",
       "country_name": "Canada",
       "cpu_count": 4,
       "cpu_energy": 1.8205403453167013e-7,
       "cpu_model": "Intel(R) Core(TM) i7-7600U CPU @ 2.80GHz",
       "cpu_power": 10.721524670752943,
       "duration": 0.07087850570678711,
       "emissions": 6.508143250115741e-10,
       "emissions_rate": 9.182111255334409e-9,
       "energy_consumed": 2.737713363469733e-7,
       "gpu_count": null,
       "gpu_energy": 0,
       "gpu_model": null,
       "gpu_power": 0,
       "latitude": 46.8,
       "longitude": -71.2,
       "on_cloud": "N",
       "os": "Linux-5.15.0-75-generic-x86_64-with-glibc2.10",
       "project_name": "codecarbon",
       "python_version": "3.8.12",
       "ram_energy": 9.171730181530317e-8,
       "ram_power": 5.812030792236328,
       "ram_total_size": 15.498748779296875,
       "region": "quebec",
       "run_id": "c42f1008-9802-4fa3-b5d2-7aaee6122ae1",
       "timestamp": "2023-06-29T13:31:43",
       "tracking_mode": "machine"
      },
      "text/plain": [
       "<IPython.core.display.JSON object>"
      ]
     },
     "execution_count": 9,
     "metadata": {
      "application/json": {
       "expanded": false,
       "root": "root"
      }
     },
     "output_type": "execute_result"
    }
   ],
   "source": [
    "tracker.final_emissions_data.toJSON()\n",
    "from IPython.display import JSON\n",
    "import json\n",
    "JSON(tracker.final_emissions_data.toJSON())\n",
    "# print(json.dumps(tracker.final_emissions_data.toJSON(), indent=2))"
   ]
  },
  {
   "cell_type": "code",
   "execution_count": null,
   "metadata": {},
   "outputs": [],
   "source": []
  }
 ],
 "metadata": {
  "kernelspec": {
   "display_name": ".venv",
   "language": "python",
   "name": "python3"
  },
  "language_info": {
   "codemirror_mode": {
    "name": "ipython",
    "version": 3
   },
   "file_extension": ".py",
   "mimetype": "text/x-python",
   "name": "python",
   "nbconvert_exporter": "python",
   "pygments_lexer": "ipython3",
   "version": "3.8.12"
  },
  "orig_nbformat": 4
 },
 "nbformat": 4,
 "nbformat_minor": 2
}
